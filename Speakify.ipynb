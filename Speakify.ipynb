{
 "cells": [
  {
   "cell_type": "code",
   "execution_count": 2,
   "id": "7650b37a-789c-41a4-9fda-3a2d3ca36bbc",
   "metadata": {},
   "outputs": [
    {
     "name": "stdout",
     "output_type": "stream",
     "text": [
      "D:\\books\n"
     ]
    }
   ],
   "source": [
    "cd D:/books"
   ]
  },
  {
   "cell_type": "code",
   "execution_count": 4,
   "id": "fc883a30-7bbe-470e-95bc-fe636941885a",
   "metadata": {},
   "outputs": [
    {
     "name": "stdout",
     "output_type": "stream",
     "text": [
      "Collecting PyPDF2\n",
      "  Downloading pypdf2-3.0.1-py3-none-any.whl.metadata (6.8 kB)\n",
      "Downloading pypdf2-3.0.1-py3-none-any.whl (232 kB)\n",
      "   ---------------------------------------- 0.0/232.6 kB ? eta -:--:--\n",
      "   - -------------------------------------- 10.2/232.6 kB ? eta -:--:--\n",
      "   ----- --------------------------------- 30.7/232.6 kB 445.2 kB/s eta 0:00:01\n",
      "   ---------- ---------------------------- 61.4/232.6 kB 550.5 kB/s eta 0:00:01\n",
      "   -------------------------- ----------- 163.8/232.6 kB 984.6 kB/s eta 0:00:01\n",
      "   ---------------------------------------- 232.6/232.6 kB 1.2 MB/s eta 0:00:00\n",
      "Installing collected packages: PyPDF2\n",
      "Successfully installed PyPDF2-3.0.1\n"
     ]
    },
    {
     "name": "stderr",
     "output_type": "stream",
     "text": [
      "\n",
      "[notice] A new release of pip is available: 24.0 -> 24.2\n",
      "[notice] To update, run: python.exe -m pip install --upgrade pip\n"
     ]
    }
   ],
   "source": [
    "!pip install PyPDF2"
   ]
  },
  {
   "cell_type": "code",
   "execution_count": 5,
   "id": "a194ca4f-793f-4c79-8376-810f7c4c7dc6",
   "metadata": {},
   "outputs": [
    {
     "name": "stdout",
     "output_type": "stream",
     "text": [
      "Collecting pyttsx3\n",
      "  Downloading pyttsx3-2.91-py3-none-any.whl.metadata (3.8 kB)\n",
      "Collecting comtypes (from pyttsx3)\n",
      "  Downloading comtypes-1.4.6-py3-none-any.whl.metadata (6.4 kB)\n",
      "Collecting pypiwin32 (from pyttsx3)\n",
      "  Downloading pypiwin32-223-py3-none-any.whl.metadata (236 bytes)\n",
      "Requirement already satisfied: pywin32 in c:\\users\\admin\\anaconda3\\lib\\site-packages (from pyttsx3) (305.1)\n",
      "Downloading pyttsx3-2.91-py3-none-any.whl (33 kB)\n",
      "Downloading comtypes-1.4.6-py3-none-any.whl (222 kB)\n",
      "   ---------------------------------------- 0.0/222.1 kB ? eta -:--:--\n",
      "   ---------------------------------------- 222.1/222.1 kB 6.8 MB/s eta 0:00:00\n",
      "Downloading pypiwin32-223-py3-none-any.whl (1.7 kB)\n",
      "Installing collected packages: pypiwin32, comtypes, pyttsx3\n",
      "Successfully installed comtypes-1.4.6 pypiwin32-223 pyttsx3-2.91\n"
     ]
    },
    {
     "name": "stderr",
     "output_type": "stream",
     "text": [
      "\n",
      "[notice] A new release of pip is available: 24.0 -> 24.2\n",
      "[notice] To update, run: python.exe -m pip install --upgrade pip\n"
     ]
    }
   ],
   "source": [
    "!pip install pyttsx3"
   ]
  },
  {
   "cell_type": "code",
   "execution_count": 7,
   "id": "6a3a8e51-1d25-4bdc-b0fa-96c0f742bfe9",
   "metadata": {},
   "outputs": [],
   "source": [
    "import PyPDF2\n",
    "import pyttsx3\n",
    "\n",
    "# Open the PDF file (Enter Path To Your PDF)\n",
    "file = open('The Subtle Art of Not Giving a Fck.pdf', 'rb')\n",
    "readpdf = PyPDF2.PdfReader(file)\n",
    "\n",
    "# Initialize text-to-speech engine\n",
    "speaker = pyttsx3.init()\n",
    "rate = speaker.getProperty('rate')   # Get current speaking rate\n",
    "speaker.setProperty('rate', 200)\n",
    "\n",
    "volume = speaker.getProperty('volume')\n",
    "speaker.setProperty('volume', 1)  # Set volume level (0.0 to 1.0)\n",
    "\n",
    "# Get and set a different voice\n",
    "voices = speaker.getProperty('voices')\n",
    "for voice in voices:\n",
    "    if \"english\" in voice.name.lower() and \"us\" in voice.name.lower():\n",
    "        speaker.setProperty('voice', voice.id)\n",
    "        break\n",
    "# Iterate over each page in the PDF\n",
    "for pagenumber in range(len(readpdf.pages)):\n",
    "    # Extract text from the page\n",
    "    page = readpdf.pages[pagenumber]\n",
    "    text = page.extract_text()\n",
    "    \n",
    "    # Use the speaker to read the text\n",
    "    # speaker.say(text)\n",
    "    # speaker.runAndWait()\n",
    "\n",
    "# Save the last extracted text to an audio file (if needed)\n",
    "speaker.save_to_file(text, 'The Subtle Art of Not Giving a Fck.pdf')\n",
    "speaker.runAndWait()\n",
    "\n",
    "# Stop the speaker\n",
    "# speaker.stop()\n",
    "\n",
    "# Close the PDF file\n",
    "# file.close()"
   ]
  },
  {
   "cell_type": "code",
   "execution_count": null,
   "id": "40701bd0-7454-49a0-b8e8-c4555f6ea5da",
   "metadata": {},
   "outputs": [],
   "source": []
  }
 ],
 "metadata": {
  "kernelspec": {
   "display_name": "Python 3 (ipykernel)",
   "language": "python",
   "name": "python3"
  },
  "language_info": {
   "codemirror_mode": {
    "name": "ipython",
    "version": 3
   },
   "file_extension": ".py",
   "mimetype": "text/x-python",
   "name": "python",
   "nbconvert_exporter": "python",
   "pygments_lexer": "ipython3",
   "version": "3.11.7"
  }
 },
 "nbformat": 4,
 "nbformat_minor": 5
}
